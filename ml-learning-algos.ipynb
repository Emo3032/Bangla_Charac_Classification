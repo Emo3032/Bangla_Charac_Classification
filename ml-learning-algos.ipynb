{
 "cells": [
  {
   "cell_type": "markdown",
   "id": "44d128c1",
   "metadata": {
    "papermill": {
     "duration": 0.016253,
     "end_time": "2024-08-31T15:23:00.741501",
     "exception": false,
     "start_time": "2024-08-31T15:23:00.725248",
     "status": "completed"
    },
    "tags": []
   },
   "source": [
    "# numpy"
   ]
  },
  {
   "cell_type": "code",
   "execution_count": 1,
   "id": "0cea94b9",
   "metadata": {
    "execution": {
     "iopub.execute_input": "2024-08-31T15:23:00.776557Z",
     "iopub.status.busy": "2024-08-31T15:23:00.776068Z",
     "iopub.status.idle": "2024-08-31T15:23:00.790666Z",
     "shell.execute_reply": "2024-08-31T15:23:00.789343Z"
    },
    "papermill": {
     "duration": 0.035359,
     "end_time": "2024-08-31T15:23:00.793510",
     "exception": false,
     "start_time": "2024-08-31T15:23:00.758151",
     "status": "completed"
    },
    "tags": []
   },
   "outputs": [],
   "source": [
    "import numpy as np\n",
    "\n",
    "a = np.array([1, 2, 3], dtype= 'int16') #initialization\n",
    "b = np.array([[4, 5, 6],[5, 6, 7]])"
   ]
  },
  {
   "cell_type": "code",
   "execution_count": 2,
   "id": "341426f2",
   "metadata": {
    "execution": {
     "iopub.execute_input": "2024-08-31T15:23:00.826610Z",
     "iopub.status.busy": "2024-08-31T15:23:00.826144Z",
     "iopub.status.idle": "2024-08-31T15:23:00.837934Z",
     "shell.execute_reply": "2024-08-31T15:23:00.836776Z"
    },
    "papermill": {
     "duration": 0.03128,
     "end_time": "2024-08-31T15:23:00.840619",
     "exception": false,
     "start_time": "2024-08-31T15:23:00.809339",
     "status": "completed"
    },
    "tags": []
   },
   "outputs": [
    {
     "data": {
      "text/plain": [
       "array([[ 4, 10, 18],\n",
       "       [ 5, 12, 21]])"
      ]
     },
     "execution_count": 2,
     "metadata": {},
     "output_type": "execute_result"
    }
   ],
   "source": [
    "a*b #so, 1D array can be multiplied to 2D array"
   ]
  },
  {
   "cell_type": "code",
   "execution_count": 3,
   "id": "9cbf79ab",
   "metadata": {
    "execution": {
     "iopub.execute_input": "2024-08-31T15:23:00.874741Z",
     "iopub.status.busy": "2024-08-31T15:23:00.874245Z",
     "iopub.status.idle": "2024-08-31T15:23:00.881962Z",
     "shell.execute_reply": "2024-08-31T15:23:00.880559Z"
    },
    "papermill": {
     "duration": 0.027859,
     "end_time": "2024-08-31T15:23:00.884705",
     "exception": false,
     "start_time": "2024-08-31T15:23:00.856846",
     "status": "completed"
    },
    "tags": []
   },
   "outputs": [
    {
     "data": {
      "text/plain": [
       "(2, (2, 3))"
      ]
     },
     "execution_count": 3,
     "metadata": {},
     "output_type": "execute_result"
    }
   ],
   "source": [
    "b.ndim, b.shape"
   ]
  },
  {
   "cell_type": "code",
   "execution_count": 4,
   "id": "d77e9acb",
   "metadata": {
    "execution": {
     "iopub.execute_input": "2024-08-31T15:23:00.919956Z",
     "iopub.status.busy": "2024-08-31T15:23:00.919515Z",
     "iopub.status.idle": "2024-08-31T15:23:00.927326Z",
     "shell.execute_reply": "2024-08-31T15:23:00.926154Z"
    },
    "papermill": {
     "duration": 0.028796,
     "end_time": "2024-08-31T15:23:00.929911",
     "exception": false,
     "start_time": "2024-08-31T15:23:00.901115",
     "status": "completed"
    },
    "tags": []
   },
   "outputs": [
    {
     "data": {
      "text/plain": [
       "(1, (3,))"
      ]
     },
     "execution_count": 4,
     "metadata": {},
     "output_type": "execute_result"
    }
   ],
   "source": [
    "a.ndim, a.shape"
   ]
  },
  {
   "cell_type": "code",
   "execution_count": 5,
   "id": "233d9520",
   "metadata": {
    "execution": {
     "iopub.execute_input": "2024-08-31T15:23:00.965496Z",
     "iopub.status.busy": "2024-08-31T15:23:00.964128Z",
     "iopub.status.idle": "2024-08-31T15:23:00.972473Z",
     "shell.execute_reply": "2024-08-31T15:23:00.971364Z"
    },
    "papermill": {
     "duration": 0.028427,
     "end_time": "2024-08-31T15:23:00.975099",
     "exception": false,
     "start_time": "2024-08-31T15:23:00.946672",
     "status": "completed"
    },
    "tags": []
   },
   "outputs": [
    {
     "data": {
      "text/plain": [
       "(dtype('int16'), dtype('int64'))"
      ]
     },
     "execution_count": 5,
     "metadata": {},
     "output_type": "execute_result"
    }
   ],
   "source": [
    "a.dtype, b.dtype"
   ]
  },
  {
   "cell_type": "code",
   "execution_count": 6,
   "id": "8d9be094",
   "metadata": {
    "execution": {
     "iopub.execute_input": "2024-08-31T15:23:01.009862Z",
     "iopub.status.busy": "2024-08-31T15:23:01.009341Z",
     "iopub.status.idle": "2024-08-31T15:23:01.016930Z",
     "shell.execute_reply": "2024-08-31T15:23:01.015647Z"
    },
    "papermill": {
     "duration": 0.028736,
     "end_time": "2024-08-31T15:23:01.020040",
     "exception": false,
     "start_time": "2024-08-31T15:23:00.991304",
     "status": "completed"
    },
    "tags": []
   },
   "outputs": [
    {
     "data": {
      "text/plain": [
       "(2, 8)"
      ]
     },
     "execution_count": 6,
     "metadata": {},
     "output_type": "execute_result"
    }
   ],
   "source": [
    "#size of each elemet/item\n",
    "a.itemsize, b.itemsize #gives in bytes"
   ]
  },
  {
   "cell_type": "code",
   "execution_count": 7,
   "id": "60b094c2",
   "metadata": {
    "execution": {
     "iopub.execute_input": "2024-08-31T15:23:01.055352Z",
     "iopub.status.busy": "2024-08-31T15:23:01.054884Z",
     "iopub.status.idle": "2024-08-31T15:23:01.063044Z",
     "shell.execute_reply": "2024-08-31T15:23:01.061771Z"
    },
    "papermill": {
     "duration": 0.028749,
     "end_time": "2024-08-31T15:23:01.065815",
     "exception": false,
     "start_time": "2024-08-31T15:23:01.037066",
     "status": "completed"
    },
    "tags": []
   },
   "outputs": [
    {
     "data": {
      "text/plain": [
       "(3, 6)"
      ]
     },
     "execution_count": 7,
     "metadata": {},
     "output_type": "execute_result"
    }
   ],
   "source": [
    "#num of elements\n",
    "a.size, b.size"
   ]
  },
  {
   "cell_type": "markdown",
   "id": "f8feb5e8",
   "metadata": {
    "papermill": {
     "duration": 0.016127,
     "end_time": "2024-08-31T15:23:01.098446",
     "exception": false,
     "start_time": "2024-08-31T15:23:01.082319",
     "status": "completed"
    },
    "tags": []
   },
   "source": [
    "# accessing/changing specific rows and columns|"
   ]
  },
  {
   "cell_type": "code",
   "execution_count": 8,
   "id": "cbb04f82",
   "metadata": {
    "execution": {
     "iopub.execute_input": "2024-08-31T15:23:01.133356Z",
     "iopub.status.busy": "2024-08-31T15:23:01.132871Z",
     "iopub.status.idle": "2024-08-31T15:23:01.142447Z",
     "shell.execute_reply": "2024-08-31T15:23:01.140646Z"
    },
    "papermill": {
     "duration": 0.030084,
     "end_time": "2024-08-31T15:23:01.145051",
     "exception": false,
     "start_time": "2024-08-31T15:23:01.114967",
     "status": "completed"
    },
    "tags": []
   },
   "outputs": [
    {
     "name": "stdout",
     "output_type": "stream",
     "text": [
      "[[4 5 6]\n",
      " [5 6 7]]\n"
     ]
    },
    {
     "data": {
      "text/plain": [
       "(7, array([4, 5]))"
      ]
     },
     "execution_count": 8,
     "metadata": {},
     "output_type": "execute_result"
    }
   ],
   "source": [
    "print(b)\n",
    "b[-1, 2], b[:,0]"
   ]
  },
  {
   "cell_type": "code",
   "execution_count": 9,
   "id": "fcd345af",
   "metadata": {
    "execution": {
     "iopub.execute_input": "2024-08-31T15:23:01.181542Z",
     "iopub.status.busy": "2024-08-31T15:23:01.181042Z",
     "iopub.status.idle": "2024-08-31T15:23:01.190797Z",
     "shell.execute_reply": "2024-08-31T15:23:01.189666Z"
    },
    "papermill": {
     "duration": 0.031396,
     "end_time": "2024-08-31T15:23:01.193379",
     "exception": false,
     "start_time": "2024-08-31T15:23:01.161983",
     "status": "completed"
    },
    "tags": []
   },
   "outputs": [
    {
     "data": {
      "text/plain": [
       "array([[[2, 8, 6, 8],\n",
       "        [5, 9, 3, 2]],\n",
       "\n",
       "       [[9, 5, 7, 0],\n",
       "        [6, 1, 0, 4]],\n",
       "\n",
       "       [[2, 8, 6, 8],\n",
       "        [5, 9, 3, 2]]])"
      ]
     },
     "execution_count": 9,
     "metadata": {},
     "output_type": "execute_result"
    }
   ],
   "source": [
    "c = np.array([[[2, 8, 6, 8],[5, 9, 3, 2]] ,[[9,5,7,0],[6,1,0,4]], [[2, 8, 6, 8],[5, 9, 3, 2]]])\n",
    "c"
   ]
  },
  {
   "cell_type": "code",
   "execution_count": 10,
   "id": "265a3fae",
   "metadata": {
    "execution": {
     "iopub.execute_input": "2024-08-31T15:23:01.228974Z",
     "iopub.status.busy": "2024-08-31T15:23:01.228572Z",
     "iopub.status.idle": "2024-08-31T15:23:01.236544Z",
     "shell.execute_reply": "2024-08-31T15:23:01.235212Z"
    },
    "papermill": {
     "duration": 0.028834,
     "end_time": "2024-08-31T15:23:01.239159",
     "exception": false,
     "start_time": "2024-08-31T15:23:01.210325",
     "status": "completed"
    },
    "tags": []
   },
   "outputs": [
    {
     "data": {
      "text/plain": [
       "(3, (3, 2, 4))"
      ]
     },
     "execution_count": 10,
     "metadata": {},
     "output_type": "execute_result"
    }
   ],
   "source": [
    "c.ndim, c.shape"
   ]
  },
  {
   "cell_type": "code",
   "execution_count": 11,
   "id": "b2dc9222",
   "metadata": {
    "execution": {
     "iopub.execute_input": "2024-08-31T15:23:01.276158Z",
     "iopub.status.busy": "2024-08-31T15:23:01.275494Z",
     "iopub.status.idle": "2024-08-31T15:23:01.285774Z",
     "shell.execute_reply": "2024-08-31T15:23:01.284367Z"
    },
    "papermill": {
     "duration": 0.033048,
     "end_time": "2024-08-31T15:23:01.289521",
     "exception": false,
     "start_time": "2024-08-31T15:23:01.256473",
     "status": "completed"
    },
    "tags": []
   },
   "outputs": [
    {
     "name": "stdout",
     "output_type": "stream",
     "text": [
      "7\n"
     ]
    },
    {
     "data": {
      "text/plain": [
       "array([[[ 2,  8,  6,  8],\n",
       "        [ 5,  9,  3,  2]],\n",
       "\n",
       "       [[ 9,  5, -5,  0],\n",
       "        [ 6,  1,  0,  4]],\n",
       "\n",
       "       [[ 2,  8,  6,  8],\n",
       "        [ 5,  9,  3,  2]]])"
      ]
     },
     "execution_count": 11,
     "metadata": {},
     "output_type": "execute_result"
    }
   ],
   "source": [
    "print(c[1, 0, 2])\n",
    "c[1, 0, 2] = -5\n",
    "c"
   ]
  },
  {
   "cell_type": "code",
   "execution_count": 12,
   "id": "00d23526",
   "metadata": {
    "execution": {
     "iopub.execute_input": "2024-08-31T15:23:01.331018Z",
     "iopub.status.busy": "2024-08-31T15:23:01.330594Z",
     "iopub.status.idle": "2024-08-31T15:23:01.340973Z",
     "shell.execute_reply": "2024-08-31T15:23:01.339584Z"
    },
    "papermill": {
     "duration": 0.034685,
     "end_time": "2024-08-31T15:23:01.344371",
     "exception": false,
     "start_time": "2024-08-31T15:23:01.309686",
     "status": "completed"
    },
    "tags": []
   },
   "outputs": [
    {
     "name": "stdout",
     "output_type": "stream",
     "text": [
      "[2 5]\n"
     ]
    },
    {
     "data": {
      "text/plain": [
       "array([[[ 2,  8,  6,  8],\n",
       "        [ 5,  9,  3,  2]],\n",
       "\n",
       "       [[ 9,  5, -5,  0],\n",
       "        [ 6,  1,  0,  4]],\n",
       "\n",
       "       [[-1,  8,  6,  8],\n",
       "        [-1,  9,  3,  2]]])"
      ]
     },
     "execution_count": 12,
     "metadata": {},
     "output_type": "execute_result"
    }
   ],
   "source": [
    "print(c[-1, :, 0])\n",
    "c[-1, :, 0] = -1\n",
    "c"
   ]
  },
  {
   "cell_type": "code",
   "execution_count": 13,
   "id": "ef6a8754",
   "metadata": {
    "execution": {
     "iopub.execute_input": "2024-08-31T15:23:01.385043Z",
     "iopub.status.busy": "2024-08-31T15:23:01.384581Z",
     "iopub.status.idle": "2024-08-31T15:23:01.395861Z",
     "shell.execute_reply": "2024-08-31T15:23:01.394400Z"
    },
    "papermill": {
     "duration": 0.036097,
     "end_time": "2024-08-31T15:23:01.399283",
     "exception": false,
     "start_time": "2024-08-31T15:23:01.363186",
     "status": "completed"
    },
    "tags": []
   },
   "outputs": [
    {
     "data": {
      "text/plain": [
       "array([[-1,  6],\n",
       "       [-1,  3]])"
      ]
     },
     "execution_count": 13,
     "metadata": {},
     "output_type": "execute_result"
    }
   ],
   "source": [
    "c[-1, :, 0:4:2 ]"
   ]
  },
  {
   "cell_type": "markdown",
   "id": "a10c1907",
   "metadata": {
    "papermill": {
     "duration": 0.020439,
     "end_time": "2024-08-31T15:23:01.438940",
     "exception": false,
     "start_time": "2024-08-31T15:23:01.418501",
     "status": "completed"
    },
    "tags": []
   },
   "source": [
    "# initializing"
   ]
  },
  {
   "cell_type": "code",
   "execution_count": 14,
   "id": "c2de824a",
   "metadata": {
    "execution": {
     "iopub.execute_input": "2024-08-31T15:23:01.482118Z",
     "iopub.status.busy": "2024-08-31T15:23:01.481671Z",
     "iopub.status.idle": "2024-08-31T15:23:01.489088Z",
     "shell.execute_reply": "2024-08-31T15:23:01.487243Z"
    },
    "papermill": {
     "duration": 0.034536,
     "end_time": "2024-08-31T15:23:01.492109",
     "exception": false,
     "start_time": "2024-08-31T15:23:01.457573",
     "status": "completed"
    },
    "tags": []
   },
   "outputs": [],
   "source": [
    "z = np.zeros((2,3,5))\n",
    "o = np.ones((6, 1), dtype = 'int16')"
   ]
  },
  {
   "cell_type": "code",
   "execution_count": 15,
   "id": "a32ceef9",
   "metadata": {
    "execution": {
     "iopub.execute_input": "2024-08-31T15:23:01.532411Z",
     "iopub.status.busy": "2024-08-31T15:23:01.531929Z",
     "iopub.status.idle": "2024-08-31T15:23:01.540563Z",
     "shell.execute_reply": "2024-08-31T15:23:01.539190Z"
    },
    "papermill": {
     "duration": 0.031504,
     "end_time": "2024-08-31T15:23:01.542955",
     "exception": false,
     "start_time": "2024-08-31T15:23:01.511451",
     "status": "completed"
    },
    "tags": []
   },
   "outputs": [
    {
     "data": {
      "text/plain": [
       "array([[[0., 0., 0., 0., 0.],\n",
       "        [0., 0., 0., 0., 0.],\n",
       "        [0., 0., 0., 0., 0.]],\n",
       "\n",
       "       [[0., 0., 0., 0., 0.],\n",
       "        [0., 0., 0., 0., 0.],\n",
       "        [0., 0., 0., 0., 0.]]])"
      ]
     },
     "execution_count": 15,
     "metadata": {},
     "output_type": "execute_result"
    }
   ],
   "source": [
    "z"
   ]
  },
  {
   "cell_type": "code",
   "execution_count": 16,
   "id": "b385abae",
   "metadata": {
    "execution": {
     "iopub.execute_input": "2024-08-31T15:23:01.582344Z",
     "iopub.status.busy": "2024-08-31T15:23:01.581896Z",
     "iopub.status.idle": "2024-08-31T15:23:01.590786Z",
     "shell.execute_reply": "2024-08-31T15:23:01.589453Z"
    },
    "papermill": {
     "duration": 0.03239,
     "end_time": "2024-08-31T15:23:01.593841",
     "exception": false,
     "start_time": "2024-08-31T15:23:01.561451",
     "status": "completed"
    },
    "tags": []
   },
   "outputs": [
    {
     "data": {
      "text/plain": [
       "array([[1],\n",
       "       [1],\n",
       "       [1],\n",
       "       [1],\n",
       "       [1],\n",
       "       [1]], dtype=int16)"
      ]
     },
     "execution_count": 16,
     "metadata": {},
     "output_type": "execute_result"
    }
   ],
   "source": [
    "o"
   ]
  },
  {
   "cell_type": "code",
   "execution_count": 17,
   "id": "08c4c062",
   "metadata": {
    "execution": {
     "iopub.execute_input": "2024-08-31T15:23:01.632544Z",
     "iopub.status.busy": "2024-08-31T15:23:01.632090Z",
     "iopub.status.idle": "2024-08-31T15:23:01.638458Z",
     "shell.execute_reply": "2024-08-31T15:23:01.637107Z"
    },
    "papermill": {
     "duration": 0.028988,
     "end_time": "2024-08-31T15:23:01.641311",
     "exception": false,
     "start_time": "2024-08-31T15:23:01.612323",
     "status": "completed"
    },
    "tags": []
   },
   "outputs": [],
   "source": [
    "an = np.full((2,3), 5, dtype = 'float') #shape, value\n",
    "#similar to this is full_like\n",
    "bu = np.full_like(b, 6)"
   ]
  },
  {
   "cell_type": "code",
   "execution_count": 18,
   "id": "206b5d0e",
   "metadata": {
    "execution": {
     "iopub.execute_input": "2024-08-31T15:23:01.681053Z",
     "iopub.status.busy": "2024-08-31T15:23:01.680605Z",
     "iopub.status.idle": "2024-08-31T15:23:01.688616Z",
     "shell.execute_reply": "2024-08-31T15:23:01.687366Z"
    },
    "papermill": {
     "duration": 0.031337,
     "end_time": "2024-08-31T15:23:01.691395",
     "exception": false,
     "start_time": "2024-08-31T15:23:01.660058",
     "status": "completed"
    },
    "tags": []
   },
   "outputs": [
    {
     "data": {
      "text/plain": [
       "((2, 3), dtype('float64'))"
      ]
     },
     "execution_count": 18,
     "metadata": {},
     "output_type": "execute_result"
    }
   ],
   "source": [
    "an.shape,  an.dtype"
   ]
  },
  {
   "cell_type": "code",
   "execution_count": 19,
   "id": "7beb62f5",
   "metadata": {
    "execution": {
     "iopub.execute_input": "2024-08-31T15:23:01.731943Z",
     "iopub.status.busy": "2024-08-31T15:23:01.731470Z",
     "iopub.status.idle": "2024-08-31T15:23:01.739821Z",
     "shell.execute_reply": "2024-08-31T15:23:01.738585Z"
    },
    "papermill": {
     "duration": 0.032117,
     "end_time": "2024-08-31T15:23:01.742503",
     "exception": false,
     "start_time": "2024-08-31T15:23:01.710386",
     "status": "completed"
    },
    "tags": []
   },
   "outputs": [
    {
     "data": {
      "text/plain": [
       "(array([[5., 5., 5.],\n",
       "        [5., 5., 5.]]),\n",
       " array([[6, 6, 6],\n",
       "        [6, 6, 6]]))"
      ]
     },
     "execution_count": 19,
     "metadata": {},
     "output_type": "execute_result"
    }
   ],
   "source": [
    "an, bu"
   ]
  },
  {
   "cell_type": "code",
   "execution_count": 20,
   "id": "f06f4308",
   "metadata": {
    "execution": {
     "iopub.execute_input": "2024-08-31T15:23:01.782749Z",
     "iopub.status.busy": "2024-08-31T15:23:01.782295Z",
     "iopub.status.idle": "2024-08-31T15:23:01.790774Z",
     "shell.execute_reply": "2024-08-31T15:23:01.789559Z"
    },
    "papermill": {
     "duration": 0.030862,
     "end_time": "2024-08-31T15:23:01.793334",
     "exception": false,
     "start_time": "2024-08-31T15:23:01.762472",
     "status": "completed"
    },
    "tags": []
   },
   "outputs": [
    {
     "data": {
      "text/plain": [
       "array([[0.13417472, 0.4015848 ],\n",
       "       [0.50286952, 0.62852514],\n",
       "       [0.0610439 , 0.22357865]])"
      ]
     },
     "execution_count": 20,
     "metadata": {},
     "output_type": "execute_result"
    }
   ],
   "source": [
    "#random int initializations\n",
    "r = np.random.rand(3,2)\n",
    "r"
   ]
  },
  {
   "cell_type": "code",
   "execution_count": 21,
   "id": "865f1d2b",
   "metadata": {
    "execution": {
     "iopub.execute_input": "2024-08-31T15:23:01.831957Z",
     "iopub.status.busy": "2024-08-31T15:23:01.831535Z",
     "iopub.status.idle": "2024-08-31T15:23:01.840493Z",
     "shell.execute_reply": "2024-08-31T15:23:01.839148Z"
    },
    "papermill": {
     "duration": 0.031522,
     "end_time": "2024-08-31T15:23:01.843075",
     "exception": false,
     "start_time": "2024-08-31T15:23:01.811553",
     "status": "completed"
    },
    "tags": []
   },
   "outputs": [
    {
     "data": {
      "text/plain": [
       "(array([[0.07467687, 0.63004302, 0.59496982],\n",
       "        [0.01337965, 0.51906253, 0.54224624]]),\n",
       " (2, 3))"
      ]
     },
     "execution_count": 21,
     "metadata": {},
     "output_type": "execute_result"
    }
   ],
   "source": [
    "#similar to full like, if you want to pass a tuple\n",
    "ru = np.random.random_sample(b.shape)\n",
    "ru, b.shape"
   ]
  },
  {
   "cell_type": "code",
   "execution_count": 22,
   "id": "d9a13645",
   "metadata": {
    "execution": {
     "iopub.execute_input": "2024-08-31T15:23:01.882111Z",
     "iopub.status.busy": "2024-08-31T15:23:01.881682Z",
     "iopub.status.idle": "2024-08-31T15:23:01.889902Z",
     "shell.execute_reply": "2024-08-31T15:23:01.888754Z"
    },
    "papermill": {
     "duration": 0.031173,
     "end_time": "2024-08-31T15:23:01.892988",
     "exception": false,
     "start_time": "2024-08-31T15:23:01.861815",
     "status": "completed"
    },
    "tags": []
   },
   "outputs": [
    {
     "data": {
      "text/plain": [
       "array([ 7, 11, 10])"
      ]
     },
     "execution_count": 22,
     "metadata": {},
     "output_type": "execute_result"
    }
   ],
   "source": [
    "np.random.randint([1, 5, 9], 13)"
   ]
  },
  {
   "cell_type": "markdown",
   "id": "40597897",
   "metadata": {
    "papermill": {
     "duration": 0.021215,
     "end_time": "2024-08-31T15:23:01.933899",
     "exception": false,
     "start_time": "2024-08-31T15:23:01.912684",
     "status": "completed"
    },
    "tags": []
   },
   "source": [
    "# *example array*"
   ]
  },
  {
   "cell_type": "code",
   "execution_count": 23,
   "id": "8ca1180c",
   "metadata": {
    "execution": {
     "iopub.execute_input": "2024-08-31T15:23:01.974867Z",
     "iopub.status.busy": "2024-08-31T15:23:01.974458Z",
     "iopub.status.idle": "2024-08-31T15:23:01.982457Z",
     "shell.execute_reply": "2024-08-31T15:23:01.981068Z"
    },
    "papermill": {
     "duration": 0.031985,
     "end_time": "2024-08-31T15:23:01.985735",
     "exception": false,
     "start_time": "2024-08-31T15:23:01.953750",
     "status": "completed"
    },
    "tags": []
   },
   "outputs": [
    {
     "name": "stdout",
     "output_type": "stream",
     "text": [
      "[[1 1 1 1 1]\n",
      " [1 0 0 0 1]\n",
      " [1 0 9 0 1]\n",
      " [1 0 0 0 1]\n",
      " [1 1 1 1 1]]\n",
      "[[-100 -100 -100 -100 -100]\n",
      " [   1    0    0    0    1]\n",
      " [   1    0    9    0    1]\n",
      " [   1    0    0    0    1]\n",
      " [   1    1    1    1    1]]\n"
     ]
    }
   ],
   "source": [
    "e = np.ones((5,5), dtype = 'int16')\n",
    "e[1:4, 1:-1] = 0\n",
    "e[2, 2] = 9\n",
    "print(e)\n",
    "\n",
    "p = e #it's like pointer switching\n",
    "p[0] = -100\n",
    "print(e)"
   ]
  },
  {
   "cell_type": "code",
   "execution_count": 24,
   "id": "7a505c51",
   "metadata": {
    "execution": {
     "iopub.execute_input": "2024-08-31T15:23:02.029036Z",
     "iopub.status.busy": "2024-08-31T15:23:02.028459Z",
     "iopub.status.idle": "2024-08-31T15:23:02.039577Z",
     "shell.execute_reply": "2024-08-31T15:23:02.037415Z"
    },
    "papermill": {
     "duration": 0.03778,
     "end_time": "2024-08-31T15:23:02.043040",
     "exception": false,
     "start_time": "2024-08-31T15:23:02.005260",
     "status": "completed"
    },
    "tags": []
   },
   "outputs": [
    {
     "data": {
      "text/plain": [
       "array([0.841471 , 0.9092974, 0.14112  ], dtype=float32)"
      ]
     },
     "execution_count": 24,
     "metadata": {},
     "output_type": "execute_result"
    }
   ],
   "source": [
    "np.sin(a)"
   ]
  },
  {
   "cell_type": "markdown",
   "id": "133f3f24",
   "metadata": {
    "papermill": {
     "duration": 0.019841,
     "end_time": "2024-08-31T15:23:02.083613",
     "exception": false,
     "start_time": "2024-08-31T15:23:02.063772",
     "status": "completed"
    },
    "tags": []
   },
   "source": [
    "### **Linear Algebra**"
   ]
  },
  {
   "cell_type": "code",
   "execution_count": 25,
   "id": "35e648da",
   "metadata": {
    "execution": {
     "iopub.execute_input": "2024-08-31T15:23:02.124174Z",
     "iopub.status.busy": "2024-08-31T15:23:02.123031Z",
     "iopub.status.idle": "2024-08-31T15:23:02.137894Z",
     "shell.execute_reply": "2024-08-31T15:23:02.136527Z"
    },
    "papermill": {
     "duration": 0.038165,
     "end_time": "2024-08-31T15:23:02.140703",
     "exception": false,
     "start_time": "2024-08-31T15:23:02.102538",
     "status": "completed"
    },
    "tags": []
   },
   "outputs": [
    {
     "data": {
      "text/plain": [
       "array([[12., 12., 12.],\n",
       "       [12., 12., 12.],\n",
       "       [12., 12., 12.]])"
      ]
     },
     "execution_count": 25,
     "metadata": {},
     "output_type": "execute_result"
    }
   ],
   "source": [
    "a = np.ones((2, 3))\n",
    "b = np.full((3, 2), 6)\n",
    "\n",
    "np.matmul(b, a)"
   ]
  },
  {
   "cell_type": "markdown",
   "id": "620ee5b5",
   "metadata": {
    "papermill": {
     "duration": 0.018968,
     "end_time": "2024-08-31T15:23:02.178694",
     "exception": false,
     "start_time": "2024-08-31T15:23:02.159726",
     "status": "completed"
    },
    "tags": []
   },
   "source": [
    "# main things that will be needed in ML"
   ]
  },
  {
   "cell_type": "code",
   "execution_count": 26,
   "id": "09460564",
   "metadata": {
    "execution": {
     "iopub.execute_input": "2024-08-31T15:23:02.218934Z",
     "iopub.status.busy": "2024-08-31T15:23:02.218467Z",
     "iopub.status.idle": "2024-08-31T15:23:02.229134Z",
     "shell.execute_reply": "2024-08-31T15:23:02.227477Z"
    },
    "papermill": {
     "duration": 0.034234,
     "end_time": "2024-08-31T15:23:02.232052",
     "exception": false,
     "start_time": "2024-08-31T15:23:02.197818",
     "status": "completed"
    },
    "tags": []
   },
   "outputs": [
    {
     "name": "stdout",
     "output_type": "stream",
     "text": [
      "[[2 8 6 8]\n",
      " [5 9 3 2]\n",
      " [9 5 7 0]\n",
      " [6 1 0 4]]\n"
     ]
    },
    {
     "data": {
      "text/plain": [
       "array([2, 1, 0, 0])"
      ]
     },
     "execution_count": 26,
     "metadata": {},
     "output_type": "execute_result"
    }
   ],
   "source": [
    "stats = np.array([[2, 8, 6, 8],[5, 9, 3, 2,],[9, 5, 7, 0],[6, 1, 0, 4]])\n",
    "\n",
    "print(stats)\n",
    "np.min(stats, axis=0) #horizontal axis=1, vertically 0"
   ]
  },
  {
   "cell_type": "code",
   "execution_count": 27,
   "id": "d55dbfe7",
   "metadata": {
    "execution": {
     "iopub.execute_input": "2024-08-31T15:23:02.274057Z",
     "iopub.status.busy": "2024-08-31T15:23:02.273461Z",
     "iopub.status.idle": "2024-08-31T15:23:02.281640Z",
     "shell.execute_reply": "2024-08-31T15:23:02.280337Z"
    },
    "papermill": {
     "duration": 0.032383,
     "end_time": "2024-08-31T15:23:02.284378",
     "exception": false,
     "start_time": "2024-08-31T15:23:02.251995",
     "status": "completed"
    },
    "tags": []
   },
   "outputs": [
    {
     "data": {
      "text/plain": [
       "(4, 4)"
      ]
     },
     "execution_count": 27,
     "metadata": {},
     "output_type": "execute_result"
    }
   ],
   "source": [
    "stats.shape"
   ]
  },
  {
   "cell_type": "code",
   "execution_count": 28,
   "id": "9f0a98ea",
   "metadata": {
    "execution": {
     "iopub.execute_input": "2024-08-31T15:23:02.325348Z",
     "iopub.status.busy": "2024-08-31T15:23:02.324863Z",
     "iopub.status.idle": "2024-08-31T15:23:02.334713Z",
     "shell.execute_reply": "2024-08-31T15:23:02.333170Z"
    },
    "papermill": {
     "duration": 0.03451,
     "end_time": "2024-08-31T15:23:02.338394",
     "exception": false,
     "start_time": "2024-08-31T15:23:02.303884",
     "status": "completed"
    },
    "tags": []
   },
   "outputs": [
    {
     "name": "stdout",
     "output_type": "stream",
     "text": [
      "[[[ 2  8  6  8]\n",
      "  [ 5  9  3  2]]\n",
      "\n",
      " [[ 9  5 -5  0]\n",
      "  [ 6  1  0  4]]\n",
      "\n",
      " [[-1  8  6  8]\n",
      "  [-1  9  3  2]]]\n"
     ]
    },
    {
     "data": {
      "text/plain": [
       "array([[ 2,  8,  3,  2],\n",
       "       [ 6,  1, -5,  0],\n",
       "       [-1,  8,  3,  2]])"
      ]
     },
     "execution_count": 28,
     "metadata": {},
     "output_type": "execute_result"
    }
   ],
   "source": [
    "print(c)\n",
    "np.min(c, axis=1) #so, using axis for arrays above 2D will flatten them"
   ]
  },
  {
   "cell_type": "code",
   "execution_count": 29,
   "id": "ac826e89",
   "metadata": {
    "execution": {
     "iopub.execute_input": "2024-08-31T15:23:02.380927Z",
     "iopub.status.busy": "2024-08-31T15:23:02.380482Z",
     "iopub.status.idle": "2024-08-31T15:23:02.388673Z",
     "shell.execute_reply": "2024-08-31T15:23:02.387552Z"
    },
    "papermill": {
     "duration": 0.033318,
     "end_time": "2024-08-31T15:23:02.391494",
     "exception": false,
     "start_time": "2024-08-31T15:23:02.358176",
     "status": "completed"
    },
    "tags": []
   },
   "outputs": [
    {
     "data": {
      "text/plain": [
       "array([[-1,  5, -5,  0],\n",
       "       [-1,  1,  0,  2]])"
      ]
     },
     "execution_count": 29,
     "metadata": {},
     "output_type": "execute_result"
    }
   ],
   "source": [
    "np.min(c, axis=0)"
   ]
  },
  {
   "cell_type": "code",
   "execution_count": 30,
   "id": "7da9e5a1",
   "metadata": {
    "execution": {
     "iopub.execute_input": "2024-08-31T15:23:02.497547Z",
     "iopub.status.busy": "2024-08-31T15:23:02.497111Z",
     "iopub.status.idle": "2024-08-31T15:23:02.506023Z",
     "shell.execute_reply": "2024-08-31T15:23:02.504849Z"
    },
    "papermill": {
     "duration": 0.094727,
     "end_time": "2024-08-31T15:23:02.508770",
     "exception": false,
     "start_time": "2024-08-31T15:23:02.414043",
     "status": "completed"
    },
    "tags": []
   },
   "outputs": [
    {
     "data": {
      "text/plain": [
       "(array([24, 19, 21, 11]),\n",
       " array([[ 7, 17,  9, 10],\n",
       "        [15,  6, -5,  4],\n",
       "        [-2, 17,  9, 10]]),\n",
       " array([[10, 21,  7, 16],\n",
       "        [10, 19,  6,  8]]))"
      ]
     },
     "execution_count": 30,
     "metadata": {},
     "output_type": "execute_result"
    }
   ],
   "source": [
    "np.sum(stats, axis=1) , np.sum(c, axis=1), np.sum(c, axis=0)"
   ]
  },
  {
   "cell_type": "code",
   "execution_count": 31,
   "id": "cfc7fc56",
   "metadata": {
    "execution": {
     "iopub.execute_input": "2024-08-31T15:23:02.551662Z",
     "iopub.status.busy": "2024-08-31T15:23:02.551203Z",
     "iopub.status.idle": "2024-08-31T15:23:02.560472Z",
     "shell.execute_reply": "2024-08-31T15:23:02.558721Z"
    },
    "papermill": {
     "duration": 0.034583,
     "end_time": "2024-08-31T15:23:02.563510",
     "exception": false,
     "start_time": "2024-08-31T15:23:02.528927",
     "status": "completed"
    },
    "tags": []
   },
   "outputs": [
    {
     "data": {
      "text/plain": [
       "array([[[ 2,  8],\n",
       "        [ 6,  8],\n",
       "        [ 5,  9],\n",
       "        [ 3,  2],\n",
       "        [ 9,  5],\n",
       "        [-5,  0]],\n",
       "\n",
       "       [[ 6,  1],\n",
       "        [ 0,  4],\n",
       "        [-1,  8],\n",
       "        [ 6,  8],\n",
       "        [-1,  9],\n",
       "        [ 3,  2]]])"
      ]
     },
     "execution_count": 31,
     "metadata": {},
     "output_type": "execute_result"
    }
   ],
   "source": [
    "#reorganizing\n",
    "c.size\n",
    "c.reshape((2,6,2))"
   ]
  },
  {
   "cell_type": "code",
   "execution_count": 32,
   "id": "ab26700e",
   "metadata": {
    "execution": {
     "iopub.execute_input": "2024-08-31T15:23:02.608539Z",
     "iopub.status.busy": "2024-08-31T15:23:02.607890Z",
     "iopub.status.idle": "2024-08-31T15:23:02.618156Z",
     "shell.execute_reply": "2024-08-31T15:23:02.616683Z"
    },
    "papermill": {
     "duration": 0.036455,
     "end_time": "2024-08-31T15:23:02.621008",
     "exception": false,
     "start_time": "2024-08-31T15:23:02.584553",
     "status": "completed"
    },
    "tags": []
   },
   "outputs": [
    {
     "data": {
      "text/plain": [
       "((8, 2), (3, 2))"
      ]
     },
     "execution_count": 32,
     "metadata": {},
     "output_type": "execute_result"
    }
   ],
   "source": [
    "#vertical stacking\n",
    "x = stats.reshape((8,2))\n",
    "y = b.reshape((3,2))\n",
    "x.shape, y.shape"
   ]
  },
  {
   "cell_type": "code",
   "execution_count": 33,
   "id": "b3c2899e",
   "metadata": {
    "execution": {
     "iopub.execute_input": "2024-08-31T15:23:02.665650Z",
     "iopub.status.busy": "2024-08-31T15:23:02.665208Z",
     "iopub.status.idle": "2024-08-31T15:23:02.673677Z",
     "shell.execute_reply": "2024-08-31T15:23:02.672261Z"
    },
    "papermill": {
     "duration": 0.033383,
     "end_time": "2024-08-31T15:23:02.676246",
     "exception": false,
     "start_time": "2024-08-31T15:23:02.642863",
     "status": "completed"
    },
    "tags": []
   },
   "outputs": [
    {
     "data": {
      "text/plain": [
       "(array([[2, 8],\n",
       "        [6, 8],\n",
       "        [5, 9],\n",
       "        [3, 2],\n",
       "        [9, 5],\n",
       "        [7, 0],\n",
       "        [6, 1],\n",
       "        [0, 4]]),\n",
       " array([[6, 6],\n",
       "        [6, 6],\n",
       "        [6, 6]]))"
      ]
     },
     "execution_count": 33,
     "metadata": {},
     "output_type": "execute_result"
    }
   ],
   "source": [
    "x,y"
   ]
  },
  {
   "cell_type": "code",
   "execution_count": 34,
   "id": "2f281d03",
   "metadata": {
    "execution": {
     "iopub.execute_input": "2024-08-31T15:23:02.721017Z",
     "iopub.status.busy": "2024-08-31T15:23:02.720584Z",
     "iopub.status.idle": "2024-08-31T15:23:02.730332Z",
     "shell.execute_reply": "2024-08-31T15:23:02.728768Z"
    },
    "papermill": {
     "duration": 0.035832,
     "end_time": "2024-08-31T15:23:02.733032",
     "exception": false,
     "start_time": "2024-08-31T15:23:02.697200",
     "status": "completed"
    },
    "tags": []
   },
   "outputs": [
    {
     "data": {
      "text/plain": [
       "array([[2, 8],\n",
       "       [6, 8],\n",
       "       [5, 9],\n",
       "       [3, 2],\n",
       "       [9, 5],\n",
       "       [7, 0],\n",
       "       [6, 1],\n",
       "       [0, 4],\n",
       "       [6, 6],\n",
       "       [6, 6],\n",
       "       [6, 6]])"
      ]
     },
     "execution_count": 34,
     "metadata": {},
     "output_type": "execute_result"
    }
   ],
   "source": [
    "np.vstack((x,y))"
   ]
  },
  {
   "cell_type": "code",
   "execution_count": 35,
   "id": "cc86f6a6",
   "metadata": {
    "execution": {
     "iopub.execute_input": "2024-08-31T15:23:02.776656Z",
     "iopub.status.busy": "2024-08-31T15:23:02.776177Z",
     "iopub.status.idle": "2024-08-31T15:23:02.785587Z",
     "shell.execute_reply": "2024-08-31T15:23:02.784111Z"
    },
    "papermill": {
     "duration": 0.03471,
     "end_time": "2024-08-31T15:23:02.788418",
     "exception": false,
     "start_time": "2024-08-31T15:23:02.753708",
     "status": "completed"
    },
    "tags": []
   },
   "outputs": [
    {
     "data": {
      "text/plain": [
       "array([[2, 8, 6, 8, 5, 9, 3, 2, 6, 6, 6],\n",
       "       [9, 5, 7, 0, 6, 1, 0, 4, 6, 6, 6]])"
      ]
     },
     "execution_count": 35,
     "metadata": {},
     "output_type": "execute_result"
    }
   ],
   "source": [
    "h = x.reshape((2,8))\n",
    "g = y.reshape((2,3))\n",
    "np.hstack((h,g))"
   ]
  },
  {
   "cell_type": "code",
   "execution_count": 36,
   "id": "8015ea83",
   "metadata": {
    "execution": {
     "iopub.execute_input": "2024-08-31T15:23:02.833436Z",
     "iopub.status.busy": "2024-08-31T15:23:02.832958Z",
     "iopub.status.idle": "2024-08-31T15:23:02.838216Z",
     "shell.execute_reply": "2024-08-31T15:23:02.836895Z"
    },
    "papermill": {
     "duration": 0.030456,
     "end_time": "2024-08-31T15:23:02.841002",
     "exception": false,
     "start_time": "2024-08-31T15:23:02.810546",
     "status": "completed"
    },
    "tags": []
   },
   "outputs": [],
   "source": [
    "#getting datafrom txt file\n",
    "#data = np.genfromtxt('data.txt', delimiter=',')"
   ]
  },
  {
   "cell_type": "markdown",
   "id": "f24bf2d2",
   "metadata": {
    "papermill": {
     "duration": 0.020718,
     "end_time": "2024-08-31T15:23:02.883015",
     "exception": false,
     "start_time": "2024-08-31T15:23:02.862297",
     "status": "completed"
    },
    "tags": []
   },
   "source": [
    "# boolean masking"
   ]
  },
  {
   "cell_type": "code",
   "execution_count": 37,
   "id": "0f86f469",
   "metadata": {
    "execution": {
     "iopub.execute_input": "2024-08-31T15:23:02.927968Z",
     "iopub.status.busy": "2024-08-31T15:23:02.927547Z",
     "iopub.status.idle": "2024-08-31T15:23:02.936888Z",
     "shell.execute_reply": "2024-08-31T15:23:02.935410Z"
    },
    "papermill": {
     "duration": 0.034791,
     "end_time": "2024-08-31T15:23:02.939934",
     "exception": false,
     "start_time": "2024-08-31T15:23:02.905143",
     "status": "completed"
    },
    "tags": []
   },
   "outputs": [
    {
     "name": "stdout",
     "output_type": "stream",
     "text": [
      "[[[False  True  True  True]\n",
      "  [ True  True False False]]\n",
      "\n",
      " [[ True  True False False]\n",
      "  [ True False False False]]\n",
      "\n",
      " [[False  True  True  True]\n",
      "  [False  True False False]]]\n"
     ]
    },
    {
     "data": {
      "text/plain": [
       "array([8, 6, 8, 9, 9, 7, 6])"
      ]
     },
     "execution_count": 37,
     "metadata": {},
     "output_type": "execute_result"
    }
   ],
   "source": [
    "print(c > 4)\n",
    "stats[stats > 5]\n"
   ]
  },
  {
   "cell_type": "code",
   "execution_count": 38,
   "id": "65430ece",
   "metadata": {
    "execution": {
     "iopub.execute_input": "2024-08-31T15:23:02.986694Z",
     "iopub.status.busy": "2024-08-31T15:23:02.986195Z",
     "iopub.status.idle": "2024-08-31T15:23:02.994331Z",
     "shell.execute_reply": "2024-08-31T15:23:02.993030Z"
    },
    "papermill": {
     "duration": 0.035892,
     "end_time": "2024-08-31T15:23:02.997075",
     "exception": false,
     "start_time": "2024-08-31T15:23:02.961183",
     "status": "completed"
    },
    "tags": []
   },
   "outputs": [
    {
     "data": {
      "text/plain": [
       "array([8, 6, 8, 5, 9, 9, 5, 6, 8, 6, 8, 9])"
      ]
     },
     "execution_count": 38,
     "metadata": {},
     "output_type": "execute_result"
    }
   ],
   "source": [
    "f = c[c > 4]\n",
    "f"
   ]
  },
  {
   "cell_type": "code",
   "execution_count": 39,
   "id": "ba56c912",
   "metadata": {
    "execution": {
     "iopub.execute_input": "2024-08-31T15:23:03.043504Z",
     "iopub.status.busy": "2024-08-31T15:23:03.043023Z",
     "iopub.status.idle": "2024-08-31T15:23:03.051831Z",
     "shell.execute_reply": "2024-08-31T15:23:03.050387Z"
    },
    "papermill": {
     "duration": 0.036138,
     "end_time": "2024-08-31T15:23:03.054745",
     "exception": false,
     "start_time": "2024-08-31T15:23:03.018607",
     "status": "completed"
    },
    "tags": []
   },
   "outputs": [
    {
     "data": {
      "text/plain": [
       "array([6, 9, 8])"
      ]
     },
     "execution_count": 39,
     "metadata": {},
     "output_type": "execute_result"
    }
   ],
   "source": [
    "f[[1, 5, 8]] #indexing"
   ]
  },
  {
   "cell_type": "code",
   "execution_count": 40,
   "id": "a1fb3aa3",
   "metadata": {
    "execution": {
     "iopub.execute_input": "2024-08-31T15:23:03.100521Z",
     "iopub.status.busy": "2024-08-31T15:23:03.100081Z",
     "iopub.status.idle": "2024-08-31T15:23:03.109984Z",
     "shell.execute_reply": "2024-08-31T15:23:03.108815Z"
    },
    "papermill": {
     "duration": 0.035532,
     "end_time": "2024-08-31T15:23:03.112705",
     "exception": false,
     "start_time": "2024-08-31T15:23:03.077173",
     "status": "completed"
    },
    "tags": []
   },
   "outputs": [
    {
     "data": {
      "text/plain": [
       "array([[ 1,  2,  3,  4,  5],\n",
       "       [ 6,  7,  8,  9, 10],\n",
       "       [11, 12, 13, 14, 15],\n",
       "       [16, 17, 18, 19, 20],\n",
       "       [21, 22, 23, 24, 25],\n",
       "       [26, 27, 28, 29, 30]])"
      ]
     },
     "execution_count": 40,
     "metadata": {},
     "output_type": "execute_result"
    }
   ],
   "source": [
    "ex = np.array([[1,2,3,4,5],[6,7,8,9,10],[11,12,13,14,15],[16,17,18,19,20],[21,22,23,24,25],[26,27,28,29,30]])\n",
    "ex"
   ]
  },
  {
   "cell_type": "code",
   "execution_count": 41,
   "id": "6d88e413",
   "metadata": {
    "execution": {
     "iopub.execute_input": "2024-08-31T15:23:03.159792Z",
     "iopub.status.busy": "2024-08-31T15:23:03.159380Z",
     "iopub.status.idle": "2024-08-31T15:23:03.167836Z",
     "shell.execute_reply": "2024-08-31T15:23:03.166739Z"
    },
    "papermill": {
     "duration": 0.035013,
     "end_time": "2024-08-31T15:23:03.170419",
     "exception": false,
     "start_time": "2024-08-31T15:23:03.135406",
     "status": "completed"
    },
    "tags": []
   },
   "outputs": [
    {
     "data": {
      "text/plain": [
       "array([[False,  True, False,  True, False],\n",
       "       [False, False,  True, False,  True],\n",
       "       [False, False, False,  True, False],\n",
       "       [ True, False, False, False,  True],\n",
       "       [False, False, False, False, False],\n",
       "       [False, False, False, False, False]])"
      ]
     },
     "execution_count": 41,
     "metadata": {},
     "output_type": "execute_result"
    }
   ],
   "source": [
    "t = (ex>1) & (ex<21) & (ex%2==0) & (ex%3!=0)\n",
    "t"
   ]
  },
  {
   "cell_type": "code",
   "execution_count": 42,
   "id": "dafb593b",
   "metadata": {
    "execution": {
     "iopub.execute_input": "2024-08-31T15:23:03.216119Z",
     "iopub.status.busy": "2024-08-31T15:23:03.215687Z",
     "iopub.status.idle": "2024-08-31T15:23:03.224877Z",
     "shell.execute_reply": "2024-08-31T15:23:03.223604Z"
    },
    "papermill": {
     "duration": 0.035443,
     "end_time": "2024-08-31T15:23:03.227752",
     "exception": false,
     "start_time": "2024-08-31T15:23:03.192309",
     "status": "completed"
    },
    "tags": []
   },
   "outputs": [
    {
     "data": {
      "text/plain": [
       "(array([ 2,  4,  8, 10, 14, 16, 20]), array([ 2,  8, 14, 20]))"
      ]
     },
     "execution_count": 42,
     "metadata": {},
     "output_type": "execute_result"
    }
   ],
   "source": [
    "ex[t], ex[[0,1,2,3], [1,2,3,4]]"
   ]
  },
  {
   "cell_type": "code",
   "execution_count": 43,
   "id": "4b46d6c5",
   "metadata": {
    "execution": {
     "iopub.execute_input": "2024-08-31T15:23:03.274672Z",
     "iopub.status.busy": "2024-08-31T15:23:03.274211Z",
     "iopub.status.idle": "2024-08-31T15:23:03.282494Z",
     "shell.execute_reply": "2024-08-31T15:23:03.281017Z"
    },
    "papermill": {
     "duration": 0.034914,
     "end_time": "2024-08-31T15:23:03.285334",
     "exception": false,
     "start_time": "2024-08-31T15:23:03.250420",
     "status": "completed"
    },
    "tags": []
   },
   "outputs": [
    {
     "data": {
      "text/plain": [
       "array([[ 4,  5],\n",
       "       [24, 25],\n",
       "       [29, 30]])"
      ]
     },
     "execution_count": 43,
     "metadata": {},
     "output_type": "execute_result"
    }
   ],
   "source": [
    "ex[[0,4,5], 3:]"
   ]
  },
  {
   "cell_type": "markdown",
   "id": "96936403",
   "metadata": {
    "papermill": {
     "duration": 0.021836,
     "end_time": "2024-08-31T15:23:03.330019",
     "exception": false,
     "start_time": "2024-08-31T15:23:03.308183",
     "status": "completed"
    },
    "tags": []
   },
   "source": [
    "# machine learning model: \n",
    "## decision tree"
   ]
  },
  {
   "cell_type": "code",
   "execution_count": 44,
   "id": "38670a23",
   "metadata": {
    "execution": {
     "iopub.execute_input": "2024-08-31T15:23:03.377976Z",
     "iopub.status.busy": "2024-08-31T15:23:03.376838Z",
     "iopub.status.idle": "2024-08-31T15:23:05.045347Z",
     "shell.execute_reply": "2024-08-31T15:23:05.043638Z"
    },
    "papermill": {
     "duration": 1.695876,
     "end_time": "2024-08-31T15:23:05.048242",
     "exception": false,
     "start_time": "2024-08-31T15:23:03.352366",
     "status": "completed"
    },
    "tags": []
   },
   "outputs": [],
   "source": [
    "import sklearn as sk"
   ]
  },
  {
   "cell_type": "code",
   "execution_count": null,
   "id": "484dca0b",
   "metadata": {
    "papermill": {
     "duration": 0.022714,
     "end_time": "2024-08-31T15:23:05.093014",
     "exception": false,
     "start_time": "2024-08-31T15:23:05.070300",
     "status": "completed"
    },
    "tags": []
   },
   "outputs": [],
   "source": []
  }
 ],
 "metadata": {
  "kaggle": {
   "accelerator": "none",
   "dataSources": [],
   "dockerImageVersionId": 30761,
   "isGpuEnabled": false,
   "isInternetEnabled": true,
   "language": "python",
   "sourceType": "notebook"
  },
  "kernelspec": {
   "display_name": "Python 3",
   "language": "python",
   "name": "python3"
  },
  "language_info": {
   "codemirror_mode": {
    "name": "ipython",
    "version": 3
   },
   "file_extension": ".py",
   "mimetype": "text/x-python",
   "name": "python",
   "nbconvert_exporter": "python",
   "pygments_lexer": "ipython3",
   "version": "3.10.14"
  },
  "papermill": {
   "default_parameters": {},
   "duration": 8.202743,
   "end_time": "2024-08-31T15:23:05.638806",
   "environment_variables": {},
   "exception": null,
   "input_path": "__notebook__.ipynb",
   "output_path": "__notebook__.ipynb",
   "parameters": {},
   "start_time": "2024-08-31T15:22:57.436063",
   "version": "2.6.0"
  }
 },
 "nbformat": 4,
 "nbformat_minor": 5
}
